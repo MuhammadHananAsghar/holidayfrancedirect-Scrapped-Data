{
 "cells": [
  {
   "cell_type": "markdown",
   "metadata": {},
   "source": [
    "<h1>By Muhammad Hanan Asghar</h1>"
   ]
  },
  {
   "cell_type": "code",
   "execution_count": 1,
   "metadata": {},
   "outputs": [],
   "source": [
    "import requests\n",
    "from bs4 import BeautifulSoup"
   ]
  },
  {
   "cell_type": "code",
   "execution_count": 18,
   "metadata": {},
   "outputs": [],
   "source": [
    "properties = []\n",
    "for page in range(1,91):\n",
    "    url = f\"https://www.holidayfrancedirect.co.uk/cottages-holidays/index.htm?board=sc&d=France&people=2&prop_type[0]=cottagegite&page={page}\"\n",
    "    html = requests.get(url)\n",
    "    soup = BeautifulSoup(html.content,\"html.parser\")\n",
    "    content = soup.find_all(\"div\",class_=\"property-grid-item\")\n",
    "    for property in content:\n",
    "        name = property.find(\"h2\").text\n",
    "        details = property.find(\"p\",class_=\"property-spec\").text\n",
    "        price = property.find(\"div\",class_=\"property-pricing\").text\n",
    "        property_data = {\n",
    "            \"Name\": name,\n",
    "            \"Details\": details,\n",
    "            \"Price\": price\n",
    "        }\n",
    "        properties.append(property_data)"
   ]
  },
  {
   "cell_type": "code",
   "execution_count": 20,
   "metadata": {},
   "outputs": [],
   "source": [
    "with open(\"holidayfrancedirect.csv\",\"w\") as file:\n",
    "    for property in properties:\n",
    "        data = property[\"Name\"]+\",\"+property[\"Price\"]+\",\"+property[\"Details\"]\n",
    "        file.write(data)\n",
    "file.close()"
   ]
  },
  {
   "cell_type": "code",
   "execution_count": 19,
   "metadata": {},
   "outputs": [
    {
     "data": {
      "text/plain": [
       "8027"
      ]
     },
     "execution_count": 19,
     "metadata": {},
     "output_type": "execute_result"
    }
   ],
   "source": []
  },
  {
   "cell_type": "code",
   "execution_count": null,
   "metadata": {},
   "outputs": [],
   "source": []
  }
 ],
 "metadata": {
  "kernelspec": {
   "display_name": "Python 3",
   "language": "python",
   "name": "python3"
  },
  "language_info": {
   "codemirror_mode": {
    "name": "ipython",
    "version": 3
   },
   "file_extension": ".py",
   "mimetype": "text/x-python",
   "name": "python",
   "nbconvert_exporter": "python",
   "pygments_lexer": "ipython3",
   "version": "3.8.2"
  }
 },
 "nbformat": 4,
 "nbformat_minor": 4
}
